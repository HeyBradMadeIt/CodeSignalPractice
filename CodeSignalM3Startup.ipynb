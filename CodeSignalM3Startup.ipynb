{
  "nbformat": 4,
  "nbformat_minor": 0,
  "metadata": {
    "colab": {
      "provenance": []
    },
    "kernelspec": {
      "name": "python3",
      "display_name": "Python 3"
    },
    "language_info": {
      "name": "python"
    }
  },
  "cells": [
    {
      "cell_type": "markdown",
      "source": [
        "Write a function that converts a floating point number to a string with a specific number of digits past the decimal place."
      ],
      "metadata": {
        "id": "Dvh9u0vIobly"
      }
    },
    {
      "cell_type": "code",
      "execution_count": 1,
      "metadata": {
        "id": "RCue1gd_oRt6"
      },
      "outputs": [],
      "source": [
        "def solution(f, places):\n",
        "    y = f\"{f:.{places}f}\"\n",
        "    return y"
      ]
    },
    {
      "cell_type": "markdown",
      "source": [
        "Normally, dividing by zero is a bad thing that will cause programs to crash. Write a safer division function\n",
        "that returns the division of two numbers (the numerator divided by the denominator) unless the denominator is 0, in which case it should return 0 instead of crashing."
      ],
      "metadata": {
        "id": "PNBfLuG1qvtS"
      }
    },
    {
      "cell_type": "code",
      "source": [
        "def solution(numerator, denominator):\n",
        "    if denominator == 0:\n",
        "        return 0\n",
        "    else:\n",
        "        return numerator / denominator"
      ],
      "metadata": {
        "id": "N9QkYQmHqxBO"
      },
      "execution_count": 4,
      "outputs": []
    },
    {
      "cell_type": "markdown",
      "source": [
        "Return the larger of two numbers.\n",
        "\n",
        "If they're the same, return either one."
      ],
      "metadata": {
        "id": "C1gIrJjgq6Wl"
      }
    },
    {
      "cell_type": "code",
      "source": [
        "def solution(a, b):\n",
        "    if a > b:\n",
        "        return a\n",
        "    elif b > a:\n",
        "        return b\n",
        "    elif a == b:\n",
        "        return a\n"
      ],
      "metadata": {
        "id": "dwEVYk9crS3Q"
      },
      "execution_count": 2,
      "outputs": []
    },
    {
      "cell_type": "markdown",
      "source": [
        "Return the larger of two characters.\n",
        "\n",
        "For example, \"c\" is larger than \"a\" because \"c\" comes later in the alphabet.\n",
        "\n",
        "If the characters are the same, return either one.\n",
        "\n",
        "This can be done with a regular comparison operator like < or >.\n",
        "\n",
        "Entire strings can be compared this way. The results are in lexicographical order, which you can think of as alphabetical order, except it includes other characters."
      ],
      "metadata": {
        "id": "gMjVb-5EsAcL"
      }
    },
    {
      "cell_type": "code",
      "source": [
        "def solution(a, b):\n",
        "    if a > b:\n",
        "        return a\n",
        "    elif b > a:\n",
        "        return b\n",
        "    elif a == b:\n",
        "        return a"
      ],
      "metadata": {
        "id": "N3YJfq2qrVoi"
      },
      "execution_count": 3,
      "outputs": []
    },
    {
      "cell_type": "markdown",
      "source": [
        "This function will analyze its input and return a string based on it.\n",
        "\n",
        "If the input is 0, return \"none\".\n",
        "If the input is 1, return \"one\".\n",
        "If the input is 2, return \"two\".\n",
        "If the input is anything else, return \"some\"."
      ],
      "metadata": {
        "id": "mZAAUWFYsYQX"
      }
    },
    {
      "cell_type": "code",
      "source": [
        "def solution(n):\n",
        "    if n == 0:\n",
        "        return \"none\"\n",
        "    elif n == 1:\n",
        "        return \"one\"\n",
        "    elif n == 2:\n",
        "        return \"two\"\n",
        "    else:\n",
        "        return \"some\"\n"
      ],
      "metadata": {
        "id": "_QUARZNxsEri"
      },
      "execution_count": 5,
      "outputs": []
    },
    {
      "cell_type": "markdown",
      "source": [
        "Return the larger of three numbers.\n",
        "\n",
        "If they're all the same, return any one."
      ],
      "metadata": {
        "id": "XTKNyI_Es8qt"
      }
    },
    {
      "cell_type": "code",
      "source": [
        "def solution(a, b, c):\n",
        "    if a > b and a > c:\n",
        "        return a\n",
        "    elif b > a and b > c:\n",
        "        return b\n",
        "    elif c > a and c > b:\n",
        "        return c\n",
        "    else:\n",
        "        return a"
      ],
      "metadata": {
        "id": "ogpzGZoRsbgS"
      },
      "execution_count": 6,
      "outputs": []
    },
    {
      "cell_type": "markdown",
      "source": [
        "Return the largest of six numbers.\n",
        "\n",
        "Do not use any built-in maximum value function to solve this!"
      ],
      "metadata": {
        "id": "XXFQVkhKuAuA"
      }
    },
    {
      "cell_type": "code",
      "source": [
        "def solution(a, b, c, d, e, f):\n",
        "    if a > b and a > c and a > d and a > e and a > f:\n",
        "        return a\n",
        "    elif b > a and b > c and b > d and b > e and b > f:\n",
        "        return b\n",
        "    elif c > a and c > b and c > d and c > e and c > f:\n",
        "        return c\n",
        "    elif d > a and d > b and d > c and d > e and d > f:\n",
        "        return d\n",
        "    elif e > a and e > b and e > c and e > d and e > f:\n",
        "        return e\n",
        "    else:\n",
        "        return f"
      ],
      "metadata": {
        "id": "BT1CQdscs_8k"
      },
      "execution_count": 7,
      "outputs": []
    },
    {
      "cell_type": "markdown",
      "source": [
        "This function will run a set of tests on three numbers. If the test passes, the function will return the string \"OK\". Otherwise it returns \"NOK\".\n",
        "\n",
        "The test passes if:\n",
        "\n",
        "a is greater than b AND\n",
        "b is less than or equal to c AND\n",
        "One of more of the following is true:\n",
        "a * 3 is greater than c OR\n",
        "c is less than or equal to a"
      ],
      "metadata": {
        "id": "38AWoUD0uoTl"
      }
    },
    {
      "cell_type": "code",
      "source": [
        "def solution(a, b, c):\n",
        "    if a > b and b <= c:\n",
        "        if ((a * 3) > c) or (c <= a):\n",
        "            return \"OK\"\n",
        "        else:\n",
        "            return \"NOK\"\n",
        "    else:\n",
        "        return \"NOK\"\n"
      ],
      "metadata": {
        "id": "VIKEzoBNuD9r"
      },
      "execution_count": 8,
      "outputs": []
    },
    {
      "cell_type": "markdown",
      "source": [
        "Write a function that takes an amount to withdraw from an account, along with the current balance.\n",
        "\n",
        "If there isn't enough in the account to make the withdrawal, return -1. Otherwise return the remaining balance after the withdrawal."
      ],
      "metadata": {
        "id": "hgH7DbjxvB1i"
      }
    },
    {
      "cell_type": "code",
      "source": [
        "def solution(amount, balance):\n",
        "    if (balance - amount) < 0:\n",
        "        return -1\n",
        "    else:\n",
        "        return balance - amount"
      ],
      "metadata": {
        "id": "CurKMnlUurx2"
      },
      "execution_count": 9,
      "outputs": []
    },
    {
      "cell_type": "code",
      "source": [],
      "metadata": {
        "id": "5n8NL6lVvE82"
      },
      "execution_count": null,
      "outputs": []
    }
  ]
}