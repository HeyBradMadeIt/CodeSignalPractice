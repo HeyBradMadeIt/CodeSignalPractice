{
  "nbformat": 4,
  "nbformat_minor": 0,
  "metadata": {
    "colab": {
      "provenance": []
    },
    "kernelspec": {
      "name": "python3",
      "display_name": "Python 3"
    },
    "language_info": {
      "name": "python"
    }
  },
  "cells": [
    {
      "cell_type": "markdown",
      "source": [
        "Compute the factorial of an integer n. This is commonly written as n!, which is read as \"n factorial\".\n",
        "\n",
        "You must use a loop to solve this problem. You cannot hard-code the answers.\n",
        "\n",
        "The factorial of a number is the product of every integer between 1 and **n**"
      ],
      "metadata": {
        "id": "Hl_ZIXSID_ou"
      }
    },
    {
      "cell_type": "code",
      "execution_count": 7,
      "metadata": {
        "id": "9mtIXkZmDAFr"
      },
      "outputs": [],
      "source": [
        "def solution(n):\n",
        "    x = 1\n",
        "    for i in range(1, n+1):\n",
        "        x *= i\n",
        "    return x"
      ]
    },
    {
      "cell_type": "code",
      "source": [
        "solution(3)"
      ],
      "metadata": {
        "colab": {
          "base_uri": "https://localhost:8080/"
        },
        "id": "tPAdAhxEDE9l",
        "outputId": "59806965-3d12-4e39-baef-f6ca95068241"
      },
      "execution_count": 8,
      "outputs": [
        {
          "output_type": "execute_result",
          "data": {
            "text/plain": [
              "6"
            ]
          },
          "metadata": {},
          "execution_count": 8
        }
      ]
    },
    {
      "cell_type": "markdown",
      "source": [
        "Compute the product of all numbers from a to b, inclusive"
      ],
      "metadata": {
        "id": "UiTkQ6LcEoGQ"
      }
    },
    {
      "cell_type": "code",
      "source": [
        "def solution1(a, b):\n",
        "    x = 1\n",
        "    for i in range(a, b+1):\n",
        "        x *= i\n",
        "    return x"
      ],
      "metadata": {
        "id": "axkPnGq2DjmP"
      },
      "execution_count": 11,
      "outputs": []
    },
    {
      "cell_type": "code",
      "source": [
        "solution1(3, 5)"
      ],
      "metadata": {
        "colab": {
          "base_uri": "https://localhost:8080/"
        },
        "id": "9g_ek5zpEtGY",
        "outputId": "b8386c8e-b79e-4b88-ac11-da4558d2d870"
      },
      "execution_count": 12,
      "outputs": [
        {
          "output_type": "execute_result",
          "data": {
            "text/plain": [
              "60"
            ]
          },
          "metadata": {},
          "execution_count": 12
        }
      ]
    },
    {
      "cell_type": "markdown",
      "source": [
        "Return the character at index n in a string s.\n",
        "\n",
        "If the index is out of range of the length of the string, return the string \"none\". Otherwise, return the character at that index"
      ],
      "metadata": {
        "id": "wGxHoMwxE3Q4"
      }
    },
    {
      "cell_type": "code",
      "source": [
        "def solution2(s, n):\n",
        "    if (len(s) - 1) < n or n < 0:\n",
        "        return \"none\"\n",
        "    else:\n",
        "        return s[n]\n"
      ],
      "metadata": {
        "id": "BimGnYOfExkW"
      },
      "execution_count": 22,
      "outputs": []
    },
    {
      "cell_type": "code",
      "source": [
        "solution2(\"parrot\", 1)"
      ],
      "metadata": {
        "colab": {
          "base_uri": "https://localhost:8080/",
          "height": 35
        },
        "id": "7PNnZXHuFijG",
        "outputId": "7600433e-90ec-4fca-9908-d85048931487"
      },
      "execution_count": 23,
      "outputs": [
        {
          "output_type": "execute_result",
          "data": {
            "text/plain": [
              "'a'"
            ],
            "application/vnd.google.colaboratory.intrinsic+json": {
              "type": "string"
            }
          },
          "metadata": {},
          "execution_count": 23
        }
      ]
    },
    {
      "cell_type": "markdown",
      "source": [
        "Count the number of occurrences of a letter in a string.\n",
        "\n",
        "Do not use any built-in count() style functions for this task."
      ],
      "metadata": {
        "id": "4y6xgMq8FsB2"
      }
    },
    {
      "cell_type": "code",
      "source": [
        "def solution3(s, letter):\n",
        "    x = 0\n",
        "    for i in s:\n",
        "        if i == letter:\n",
        "            x += 1\n",
        "    return x"
      ],
      "metadata": {
        "id": "TrdCLPK6FquQ"
      },
      "execution_count": 29,
      "outputs": []
    },
    {
      "cell_type": "code",
      "source": [
        "solution3(\"free\", \"e\")"
      ],
      "metadata": {
        "colab": {
          "base_uri": "https://localhost:8080/"
        },
        "id": "A3HkJMvmF4-3",
        "outputId": "c08ada34-914f-4833-d5e7-ac5a063c5b8e"
      },
      "execution_count": 32,
      "outputs": [
        {
          "output_type": "execute_result",
          "data": {
            "text/plain": [
              "2"
            ]
          },
          "metadata": {},
          "execution_count": 32
        }
      ]
    },
    {
      "cell_type": "markdown",
      "source": [],
      "metadata": {
        "id": "Q13WG5zeISFU"
      }
    },
    {
      "cell_type": "code",
      "source": [
        "def solution4(s):\n",
        "    if len(s) == 0:\n",
        "        return -1\n",
        "    else:\n",
        "        return (len(s)-1)"
      ],
      "metadata": {
        "id": "7L_-eMSpHGg_"
      },
      "execution_count": 36,
      "outputs": []
    },
    {
      "cell_type": "code",
      "source": [
        "solution4(\"fdd\")"
      ],
      "metadata": {
        "colab": {
          "base_uri": "https://localhost:8080/"
        },
        "id": "71TDYi4IJDlG",
        "outputId": "f4997835-017e-4c0c-8f81-c45b5b307cd7"
      },
      "execution_count": 37,
      "outputs": [
        {
          "output_type": "execute_result",
          "data": {
            "text/plain": [
              "2"
            ]
          },
          "metadata": {},
          "execution_count": 37
        }
      ]
    },
    {
      "cell_type": "markdown",
      "source": [
        "Return the last character in a string. If the string is empty, return \"none\""
      ],
      "metadata": {
        "id": "Ymem4X61Jyxa"
      }
    },
    {
      "cell_type": "code",
      "source": [
        "def solution5(s):\n",
        "    if not len(s) > 0:\n",
        "        return \"none\"\n",
        "    else:\n",
        "        return s[len(s)-1]"
      ],
      "metadata": {
        "id": "3IsSz0m2JHkJ"
      },
      "execution_count": 38,
      "outputs": []
    },
    {
      "cell_type": "code",
      "source": [
        "solution5(\"probably\")"
      ],
      "metadata": {
        "colab": {
          "base_uri": "https://localhost:8080/",
          "height": 35
        },
        "id": "r7ty5JS3LOOj",
        "outputId": "1e135111-0b83-4981-9cfd-138bf797cec0"
      },
      "execution_count": 39,
      "outputs": [
        {
          "output_type": "execute_result",
          "data": {
            "text/plain": [
              "'y'"
            ],
            "application/vnd.google.colaboratory.intrinsic+json": {
              "type": "string"
            }
          },
          "metadata": {},
          "execution_count": 39
        }
      ]
    },
    {
      "cell_type": "markdown",
      "source": [
        "Return true if the first and second characters in the string are equal."
      ],
      "metadata": {
        "id": "jOWsekX7MFHE"
      }
    },
    {
      "cell_type": "code",
      "source": [
        "def solution6(s):\n",
        "    if len(s) > 1 and s[0] == s[1]:\n",
        "        return True\n",
        "    else:\n",
        "        return False"
      ],
      "metadata": {
        "id": "Yei0XI41LRNg"
      },
      "execution_count": 41,
      "outputs": []
    },
    {
      "cell_type": "code",
      "source": [
        "solution6(\"aaa\")"
      ],
      "metadata": {
        "colab": {
          "base_uri": "https://localhost:8080/"
        },
        "id": "BaHYfmw5MHty",
        "outputId": "b4e3acef-f491-4b57-e3c7-0003a695197b"
      },
      "execution_count": 42,
      "outputs": [
        {
          "output_type": "execute_result",
          "data": {
            "text/plain": [
              "True"
            ]
          },
          "metadata": {},
          "execution_count": 42
        }
      ]
    },
    {
      "cell_type": "code",
      "source": [
        "solution6(\"abc\")"
      ],
      "metadata": {
        "colab": {
          "base_uri": "https://localhost:8080/"
        },
        "id": "FMlMf3hCMKtb",
        "outputId": "4a6f9157-3f64-4e3b-ba5c-c4823c895abb"
      },
      "execution_count": 43,
      "outputs": [
        {
          "output_type": "execute_result",
          "data": {
            "text/plain": [
              "False"
            ]
          },
          "metadata": {},
          "execution_count": 43
        }
      ]
    },
    {
      "cell_type": "markdown",
      "source": [
        "Return true if the first and last characters in the string are equal."
      ],
      "metadata": {
        "id": "pya386JmMblG"
      }
    },
    {
      "cell_type": "code",
      "source": [
        "def solution7(s):\n",
        "    if len(s) > 1 and s[0] == s[len(s)-1]:\n",
        "        return True\n",
        "    else:\n",
        "        return False\n"
      ],
      "metadata": {
        "id": "gxP86mUGMMc3"
      },
      "execution_count": 44,
      "outputs": []
    },
    {
      "cell_type": "code",
      "source": [
        "solution7(\"abba\")"
      ],
      "metadata": {
        "colab": {
          "base_uri": "https://localhost:8080/"
        },
        "id": "yZv-IaKOMenI",
        "outputId": "e88d1d13-8828-483e-d1b7-c39c3dbaa12f"
      },
      "execution_count": 46,
      "outputs": [
        {
          "output_type": "execute_result",
          "data": {
            "text/plain": [
              "True"
            ]
          },
          "metadata": {},
          "execution_count": 46
        }
      ]
    },
    {
      "cell_type": "markdown",
      "source": [
        "Return true if the last two characters in the string are equal."
      ],
      "metadata": {
        "id": "oR3GVxrrNM6s"
      }
    },
    {
      "cell_type": "code",
      "source": [
        "def solution8(s):\n",
        "    if len(s) > 1 and s[-1] == s[-2]:\n",
        "        return True\n",
        "    else:\n",
        "        return False"
      ],
      "metadata": {
        "id": "pSL3uI5WMiRl"
      },
      "execution_count": 48,
      "outputs": []
    },
    {
      "cell_type": "code",
      "source": [
        "solution8(\"frey\")\n",
        "solution8(\"free\")"
      ],
      "metadata": {
        "colab": {
          "base_uri": "https://localhost:8080/"
        },
        "id": "jxnpIGLGNDaY",
        "outputId": "353c21f0-09e1-428c-bea7-a4cf835463db"
      },
      "execution_count": 51,
      "outputs": [
        {
          "output_type": "execute_result",
          "data": {
            "text/plain": [
              "True"
            ]
          },
          "metadata": {},
          "execution_count": 51
        }
      ]
    },
    {
      "cell_type": "markdown",
      "source": [
        "For a given string, return a new string with asterisks (*) on each side of each letter.\n",
        "\n",
        "If the string is empty, return an empty string."
      ],
      "metadata": {
        "id": "jmCl_QazOD8i"
      }
    },
    {
      "cell_type": "code",
      "source": [
        "def solution9(s):\n",
        "    x = \"\"\n",
        "    if len(s) == 0:\n",
        "        return \"\"\n",
        "    else:\n",
        "        for i in s:\n",
        "            x += f\"*{i}*\"\n",
        "    return x"
      ],
      "metadata": {
        "id": "h0ndbOIhNHN8"
      },
      "execution_count": 52,
      "outputs": []
    },
    {
      "cell_type": "code",
      "source": [
        "solution9(\"fun\")"
      ],
      "metadata": {
        "colab": {
          "base_uri": "https://localhost:8080/",
          "height": 35
        },
        "id": "gVRPCx9GOHie",
        "outputId": "c32088c1-1c4b-4c01-a0c3-9e7b64b67e0e"
      },
      "execution_count": 53,
      "outputs": [
        {
          "output_type": "execute_result",
          "data": {
            "text/plain": [
              "'*f**u**n*'"
            ],
            "application/vnd.google.colaboratory.intrinsic+json": {
              "type": "string"
            }
          },
          "metadata": {},
          "execution_count": 53
        }
      ]
    },
    {
      "cell_type": "markdown",
      "source": [
        "For a given string, return a new string with asterisks (*) on each side of each letter.\n",
        "\n",
        "Do not use any built-in join()-style functionality for this task.\n",
        "\n",
        "If the string is empty, return a single asterisks."
      ],
      "metadata": {
        "id": "x4MY7TC0Peaw"
      }
    },
    {
      "cell_type": "code",
      "source": [
        "def solution10(s):\n",
        "    x = \"*\"\n",
        "    if len(s) == 0:\n",
        "        return x\n",
        "    else:\n",
        "        for i in range(len(s)):\n",
        "            if i == (len(s)-1):\n",
        "                x += s[i]\n",
        "            else:\n",
        "                x += f\"{s[i]}*\"\n",
        "    x += \"*\"\n",
        "    return x"
      ],
      "metadata": {
        "id": "fH28Oh5KOONZ"
      },
      "execution_count": 59,
      "outputs": []
    },
    {
      "cell_type": "code",
      "source": [
        "solution10(\"teddy\")"
      ],
      "metadata": {
        "colab": {
          "base_uri": "https://localhost:8080/",
          "height": 35
        },
        "id": "GLVTj_9UPhGK",
        "outputId": "9679b17d-f196-4b41-e6b9-7fa9084f4613"
      },
      "execution_count": 60,
      "outputs": [
        {
          "output_type": "execute_result",
          "data": {
            "text/plain": [
              "'*t*e*d*d*y*'"
            ],
            "application/vnd.google.colaboratory.intrinsic+json": {
              "type": "string"
            }
          },
          "metadata": {},
          "execution_count": 60
        }
      ]
    },
    {
      "cell_type": "markdown",
      "source": [
        "For a given string, return the letter that's highest in the alphabet."
      ],
      "metadata": {
        "id": "2uearUxUP5OB"
      }
    },
    {
      "cell_type": "code",
      "source": [
        "def solution11(s):\n",
        "  stringy = ''.join(sorted(s))\n",
        "  return stringy[-1]\n"
      ],
      "metadata": {
        "id": "egEI2O0fPlGU"
      },
      "execution_count": 65,
      "outputs": []
    },
    {
      "cell_type": "code",
      "source": [
        "solution11(\"djksga\")"
      ],
      "metadata": {
        "colab": {
          "base_uri": "https://localhost:8080/",
          "height": 35
        },
        "id": "lfBTNLOKQEpM",
        "outputId": "5edfaac4-4fc9-4c32-a4df-1c9bede35b01"
      },
      "execution_count": 66,
      "outputs": [
        {
          "output_type": "execute_result",
          "data": {
            "text/plain": [
              "'s'"
            ],
            "application/vnd.google.colaboratory.intrinsic+json": {
              "type": "string"
            }
          },
          "metadata": {},
          "execution_count": 66
        }
      ]
    },
    {
      "cell_type": "markdown",
      "source": [
        "Construct a string of n capital \"A\"s.\n",
        "\n",
        "You must use a loop to solve this initially. After that, you can experiment with other built-in string duplication methods."
      ],
      "metadata": {
        "id": "XaJqMUR1Q_JY"
      }
    },
    {
      "cell_type": "code",
      "source": [
        "def solution12(n):\n",
        "  x = \"\"\n",
        "  for i in range(n):\n",
        "    x += \"A\"\n",
        "  return x"
      ],
      "metadata": {
        "id": "OgzhZgPOQItZ"
      },
      "execution_count": 71,
      "outputs": []
    },
    {
      "cell_type": "code",
      "source": [
        "solution12(5)"
      ],
      "metadata": {
        "colab": {
          "base_uri": "https://localhost:8080/",
          "height": 35
        },
        "id": "XtCO2UVDRS8H",
        "outputId": "a678d8e4-3c76-4972-fb42-fd04715e244d"
      },
      "execution_count": 72,
      "outputs": [
        {
          "output_type": "execute_result",
          "data": {
            "text/plain": [
              "'AAAAA'"
            ],
            "application/vnd.google.colaboratory.intrinsic+json": {
              "type": "string"
            }
          },
          "metadata": {},
          "execution_count": 72
        }
      ]
    },
    {
      "cell_type": "code",
      "source": [],
      "metadata": {
        "id": "ubuCGEZURVWP"
      },
      "execution_count": null,
      "outputs": []
    }
  ]
}