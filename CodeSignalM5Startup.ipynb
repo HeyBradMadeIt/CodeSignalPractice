{
  "nbformat": 4,
  "nbformat_minor": 0,
  "metadata": {
    "colab": {
      "provenance": []
    },
    "kernelspec": {
      "name": "python3",
      "display_name": "Python 3"
    },
    "language_info": {
      "name": "python"
    }
  },
  "cells": [
    {
      "cell_type": "markdown",
      "source": [
        "This function accepts an array and an index.\n",
        "\n",
        "It should return the value at that index.\n",
        "\n",
        "If the index is out of range, it should return -999. (Out of range means less than 0 or greater than the maximum index of the array.)"
      ],
      "metadata": {
        "id": "mI02qHf2UHgJ"
      }
    },
    {
      "cell_type": "code",
      "execution_count": 1,
      "metadata": {
        "id": "PM0Ooh-5T7vF"
      },
      "outputs": [],
      "source": [
        "def solution(a, index):\n",
        "    if not index >= 0 or index > (len(a) - 1):\n",
        "         return -999\n",
        "    else:\n",
        "        return a[index]"
      ]
    },
    {
      "cell_type": "code",
      "source": [
        "solution(\"freedom\", 2)"
      ],
      "metadata": {
        "colab": {
          "base_uri": "https://localhost:8080/",
          "height": 35
        },
        "id": "WRErkwcIU1SJ",
        "outputId": "d53f6534-0bd0-4c58-b2d0-90f4f4356daa"
      },
      "execution_count": 2,
      "outputs": [
        {
          "output_type": "execute_result",
          "data": {
            "text/plain": [
              "'e'"
            ],
            "application/vnd.google.colaboratory.intrinsic+json": {
              "type": "string"
            }
          },
          "metadata": {},
          "execution_count": 2
        }
      ]
    },
    {
      "cell_type": "markdown",
      "source": [
        "Write a function that prepends front and appends back to an array."
      ],
      "metadata": {
        "id": "2ZyweQU5VFc5"
      }
    },
    {
      "cell_type": "code",
      "source": [
        "def solution1(a, front, back):\n",
        "    a.append(back)\n",
        "    a.insert(0, front)\n",
        "    return a"
      ],
      "metadata": {
        "id": "KEsLBFmFU5gF"
      },
      "execution_count": 3,
      "outputs": []
    },
    {
      "cell_type": "markdown",
      "source": [
        "Write a function that deletes a value from an array a at index."
      ],
      "metadata": {
        "id": "g48oRgeGVcBU"
      }
    },
    {
      "cell_type": "code",
      "source": [
        "def solution2(a, index):\n",
        "    a.pop(index)\n",
        "    return a"
      ],
      "metadata": {
        "id": "hCRyJYS7VaqD"
      },
      "execution_count": 5,
      "outputs": []
    },
    {
      "cell_type": "markdown",
      "source": [
        "This function should start computing the product of\n",
        "\n",
        "x * (x+1) * (x+2) * (x+3) * ...\n",
        "\n",
        "until the product becomes evenly divisible by 7. Then it should stop and return the product.\n",
        "\n",
        "If x is already divisible by 7, just return x.\n",
        "\n",
        "You may not hardcode the answers to solve this--you have to use a loop."
      ],
      "metadata": {
        "id": "9VaWqUb9Vt5t"
      }
    },
    {
      "cell_type": "code",
      "source": [
        "def solution3(x):\n",
        "    if x % 7 == 0:\n",
        "        return x\n",
        "\n",
        "    v = 1\n",
        "    y = x\n",
        "    while v % 7 != 0:\n",
        "        v *= y\n",
        "        y += 1\n",
        "    return v\n"
      ],
      "metadata": {
        "id": "hnYhvAdLVsEL"
      },
      "execution_count": 13,
      "outputs": []
    },
    {
      "cell_type": "code",
      "source": [
        "solution3(6)"
      ],
      "metadata": {
        "colab": {
          "base_uri": "https://localhost:8080/"
        },
        "id": "pqDQu11eauIr",
        "outputId": "cd609b30-d7f6-408b-9ad1-e4ed52c5ffb3"
      },
      "execution_count": 14,
      "outputs": [
        {
          "output_type": "execute_result",
          "data": {
            "text/plain": [
              "42"
            ]
          },
          "metadata": {},
          "execution_count": 14
        }
      ]
    },
    {
      "cell_type": "markdown",
      "source": [
        "Write a function that chops off the beginning and end of an array and puts them in a new array.\n",
        "\n",
        "An array containing the original array and the new array should be returned."
      ],
      "metadata": {
        "id": "ZyQb0N5idgpe"
      }
    },
    {
      "cell_type": "code",
      "source": [
        "def solution4(a):\n",
        "    newa = []\n",
        "    back = a.pop()\n",
        "    front = a.pop(0)\n",
        "    newa.append(front)\n",
        "    newa.append(back)\n",
        "\n",
        "    return [a, newa]"
      ],
      "metadata": {
        "id": "3feLwonJay2x"
      },
      "execution_count": 15,
      "outputs": []
    },
    {
      "cell_type": "markdown",
      "source": [
        "Write a function that inserts a new value in the middle of an array.\n",
        "\n",
        "The middle index is the length of the array divided by 2, rounded down."
      ],
      "metadata": {
        "id": "FOkYXLvQfPe3"
      }
    },
    {
      "cell_type": "code",
      "source": [
        "def solution5(a, x):\n",
        "    index = int(len(a) / 2)\n",
        "    a.insert(index, x)\n",
        "    return a"
      ],
      "metadata": {
        "id": "0N9z-lL9eW9L"
      },
      "execution_count": 16,
      "outputs": []
    },
    {
      "cell_type": "markdown",
      "source": [
        "This function accepts an array and a value to search for. It should return true if the value occurs anywhere in the array.\n",
        "\n",
        "Do not use any built-in search functions to solve this."
      ],
      "metadata": {
        "id": "tVb55QuDfoE6"
      }
    },
    {
      "cell_type": "code",
      "source": [
        "def solution6(a, v):\n",
        "    for i in a:\n",
        "        if i == v:\n",
        "            return True\n",
        "    return False"
      ],
      "metadata": {
        "id": "RB5Ks3IefSDU"
      },
      "execution_count": 18,
      "outputs": []
    },
    {
      "cell_type": "markdown",
      "source": [
        "This function accepts an array. It should return an array with members that are equal to those in the original array multiplied by 2.\n",
        "\n",
        "You can modify the existing array and return it, or construct a new one.\n",
        "\n",
        "If the input array is empty, an empty array should be returned."
      ],
      "metadata": {
        "id": "hLk9cyOYgRI7"
      }
    },
    {
      "cell_type": "code",
      "source": [
        "def solution7(a):\n",
        "    newa = []\n",
        "    if len(a) == 0:\n",
        "        return []\n",
        "    else:\n",
        "        for i in a:\n",
        "            x = i * 2\n",
        "            newa.append(x)\n",
        "    return newa"
      ],
      "metadata": {
        "id": "haDdai59gRqf"
      },
      "execution_count": 17,
      "outputs": []
    },
    {
      "cell_type": "markdown",
      "source": [
        "This function accepts an array. It should return the sum of all elements in the array.\n",
        "\n",
        "If the input array is empty, return 0"
      ],
      "metadata": {
        "id": "zDY--f5lgYBY"
      }
    },
    {
      "cell_type": "code",
      "source": [
        "def solution8(a):\n",
        "    x = 0\n",
        "    if len(a) == 0:\n",
        "        return 0\n",
        "    else:\n",
        "        for i in a:\n",
        "            x += i\n",
        "    return x"
      ],
      "metadata": {
        "id": "MYOm6QxugW-u"
      },
      "execution_count": 19,
      "outputs": []
    },
    {
      "cell_type": "markdown",
      "source": [
        "Construct a string of n capital \"A\"s followed by a string of m capital \"B\"s.\n",
        "\n",
        "Do not use any built-in string duplication functionality to solve this."
      ],
      "metadata": {
        "id": "tbrGq1Oag2r_"
      }
    },
    {
      "cell_type": "code",
      "source": [
        "def solution9(n, m):\n",
        "    long_a = \"\"\n",
        "    long_b = \"\"\n",
        "    for i in range(n):\n",
        "        long_a += \"A\"\n",
        "    for j in range(m):\n",
        "        long_b += \"B\"\n",
        "    long_a += long_b\n",
        "    return long_a"
      ],
      "metadata": {
        "id": "rBcdGlxng4Fg"
      },
      "execution_count": 20,
      "outputs": []
    },
    {
      "cell_type": "markdown",
      "source": [
        "Construct a string made from every other character in the input string.\n",
        "\n",
        "The first character of the input string will be the first character in the output string.\n",
        "\n",
        "If the input string is empty, return an empty string"
      ],
      "metadata": {
        "id": "6IQfKKZwhWwx"
      }
    },
    {
      "cell_type": "code",
      "source": [
        "def solution10(s):\n",
        "    x = 0\n",
        "    news = \"\"\n",
        "    for i in s:\n",
        "        x += 1\n",
        "        if not x % 2 == 0:\n",
        "            news += i\n",
        "    return news"
      ],
      "metadata": {
        "id": "6EVPUz14hWHM"
      },
      "execution_count": 21,
      "outputs": []
    },
    {
      "cell_type": "markdown",
      "source": [
        "Construct a string made from every other character in the input string, excluding vowels.\n",
        "\n",
        "The first character of the input string will be the first character in the output string.\n",
        "\n",
        "If the input string is empty, return an empty string\n",
        "\n",
        "For the purpose of this assignment, \"y\" is NOT considered a vowel, only \"a\", \"e\", \"i\", \"o\", and \"u\"."
      ],
      "metadata": {
        "id": "qiNOoVZdiWvn"
      }
    },
    {
      "cell_type": "code",
      "source": [
        "def solution11(s):\n",
        "    x = 0\n",
        "    news = \"\"\n",
        "    for i in s:\n",
        "        x += 1\n",
        "        if not x % 2 == 0 and not i in \"aeiou\":\n",
        "            news += i\n",
        "    return news"
      ],
      "metadata": {
        "id": "kHFN6fWBiWQs"
      },
      "execution_count": 22,
      "outputs": []
    },
    {
      "cell_type": "markdown",
      "source": [
        "Construct a string made from every other character in the input string, excluding vowels and capital letters.\n",
        "\n",
        "The first character of the input string will be the first character in the output string.\n",
        "\n",
        "If the input string is empty, return an empty string.\n",
        "\n",
        "For the purpose of this assignment, \"y\" is NOT considered a vowel, only \"a\", \"e\", \"i\", \"o\", and \"u\"."
      ],
      "metadata": {
        "id": "Svg-2bEEjeSA"
      }
    },
    {
      "cell_type": "code",
      "source": [
        "def solution12(s):\n",
        "    if len(s) == 0:\n",
        "        return \"\"\n",
        "    x = 0\n",
        "    news = \"\"\n",
        "    for i in s:\n",
        "        x += 1\n",
        "        if not x % 2 == 0 and not i in \"aeiou\" and not i.isupper():\n",
        "            news += i\n",
        "    return news"
      ],
      "metadata": {
        "id": "bWkC_8DRjdrx"
      },
      "execution_count": 23,
      "outputs": []
    },
    {
      "cell_type": "markdown",
      "source": [
        "Given a number and a field width, return a string with that number padded with leading zeros.\n",
        "\n",
        "The field width is the total number of digits in the result string, not the number of zeros.\n",
        "\n",
        "If the width is smaller than the number of digits in the n, return a string containing only n."
      ],
      "metadata": {
        "id": "f_SJjiLqkK_E"
      }
    },
    {
      "cell_type": "code",
      "source": [
        "def solution13(n, width):\n",
        "    if width <= len(str(n)):\n",
        "        return str(n)\n",
        "\n",
        "    news = \"\"\n",
        "    x = width - len(str(n))\n",
        "    for i in range(x):\n",
        "        news = news + \"0\"\n",
        "    news = news + str(n)\n",
        "    return news"
      ],
      "metadata": {
        "id": "URmNvXH3kKX5"
      },
      "execution_count": 37,
      "outputs": []
    },
    {
      "cell_type": "code",
      "source": [
        "solution13(7, 3)"
      ],
      "metadata": {
        "colab": {
          "base_uri": "https://localhost:8080/",
          "height": 35
        },
        "id": "LAc1tC1ElzvF",
        "outputId": "6a756823-895a-402c-f3ce-79b65770fb9d"
      },
      "execution_count": 39,
      "outputs": [
        {
          "output_type": "execute_result",
          "data": {
            "text/plain": [
              "'007'"
            ],
            "application/vnd.google.colaboratory.intrinsic+json": {
              "type": "string"
            }
          },
          "metadata": {},
          "execution_count": 39
        }
      ]
    },
    {
      "cell_type": "markdown",
      "source": [
        "Construct a string of p copies of n capital \"A\"s and m capital \"B\"s.\n",
        "\n",
        "Do not use any built-in string duplication functionality to solve this."
      ],
      "metadata": {
        "id": "HYTPlmeZmzgi"
      }
    },
    {
      "cell_type": "code",
      "source": [
        "def solution14(p, n, m):\n",
        "    long_a = \"\"\n",
        "    long_b = \"\"\n",
        "    long_p = \"\"\n",
        "    for i in range(n):\n",
        "        long_a += \"A\"\n",
        "    for j in range(m):\n",
        "        long_b += \"B\"\n",
        "    long_a += long_b\n",
        "    for k in range(p):\n",
        "        long_p += long_a\n",
        "    return long_p"
      ],
      "metadata": {
        "id": "MK2Re_u5l4QX"
      },
      "execution_count": 40,
      "outputs": []
    },
    {
      "cell_type": "code",
      "source": [],
      "metadata": {
        "id": "-AN8XLVUoEM6"
      },
      "execution_count": null,
      "outputs": []
    }
  ]
}