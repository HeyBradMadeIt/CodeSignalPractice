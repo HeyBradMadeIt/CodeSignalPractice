{
  "nbformat": 4,
  "nbformat_minor": 0,
  "metadata": {
    "colab": {
      "provenance": []
    },
    "kernelspec": {
      "name": "python3",
      "display_name": "Python 3"
    },
    "language_info": {
      "name": "python"
    }
  },
  "cells": [
    {
      "cell_type": "markdown",
      "source": [
        "# **Given the string, check if it is a palindrome.**"
      ],
      "metadata": {
        "id": "YqV7AO25UAjw"
      }
    },
    {
      "cell_type": "code",
      "execution_count": 2,
      "metadata": {
        "id": "JjCcLv1eT7kj"
      },
      "outputs": [],
      "source": [
        "def solution(inputString):\n",
        "    print(inputString)\n",
        "    reversed_string = inputString[::-1]\n",
        "    print(reversed_string)\n",
        "    if inputString == inputString[::-1]:\n",
        "        return True\n",
        "    else:\n",
        "        return False"
      ]
    },
    {
      "cell_type": "code",
      "source": [
        "solution(\"aabaa\")"
      ],
      "metadata": {
        "colab": {
          "base_uri": "https://localhost:8080/"
        },
        "id": "xg9FoQBVULjH",
        "outputId": "acade8ef-3d94-44ae-f19a-b0da6263c9a0"
      },
      "execution_count": 3,
      "outputs": [
        {
          "output_type": "stream",
          "name": "stdout",
          "text": [
            "aabaa\n",
            "aabaa\n"
          ]
        },
        {
          "output_type": "execute_result",
          "data": {
            "text/plain": [
              "True"
            ]
          },
          "metadata": {},
          "execution_count": 3
        }
      ]
    },
    {
      "cell_type": "code",
      "source": [
        "solution(\"aab\")"
      ],
      "metadata": {
        "colab": {
          "base_uri": "https://localhost:8080/"
        },
        "id": "27sb_EGkUNg_",
        "outputId": "067145d2-f59d-4efb-c058-a6a5d5b21916"
      },
      "execution_count": 4,
      "outputs": [
        {
          "output_type": "stream",
          "name": "stdout",
          "text": [
            "aab\n",
            "baa\n"
          ]
        },
        {
          "output_type": "execute_result",
          "data": {
            "text/plain": [
              "False"
            ]
          },
          "metadata": {},
          "execution_count": 4
        }
      ]
    },
    {
      "cell_type": "code",
      "source": [],
      "metadata": {
        "id": "B3Lh9GDxURxC"
      },
      "execution_count": null,
      "outputs": []
    }
  ]
}